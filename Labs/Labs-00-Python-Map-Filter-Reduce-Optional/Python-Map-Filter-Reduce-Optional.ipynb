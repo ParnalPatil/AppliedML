{
 "cells": [
  {
   "cell_type": "markdown",
   "metadata": {},
   "source": [
    "# map, filter, reduce, partial Lab\n",
    "`\n",
    "By   : Dr. James G. Shanahan\n",
    "EMAIL: James.Shanahan AT Gmail.com`\n",
    "\n",
    "In this optional lab you learn about `map()`, `filter()`,  `reduce()` `partial`  functions (most of which are built-in to Python's core).\n",
    "\n",
    "# MAP, FILTER AND REDUCE\n",
    "\n",
    "## Anonymous Functions or lambda functions  \n",
    "An anonymous function is a function without a name. Python provides a great way way of writing nameless, stateless, one-line functions via the `lambda operator`. Like in other programming languages, in Python we can create anonymous functions. Anonymous functions are created using the `lambda` keyword.\n",
    "\n",
    "Generally these functions just look like an expression, that’s why there are also known as **lambda expressions**\n",
    "\n",
    "The lambda operator can have any number of arguments, but it can have only **one** expression. It cannot contain any statements and it returns a function object which can be assigned to any variable.\n",
    " \n",
    "syntax: \n",
    " \n",
    "```python\n",
    "lambda [argument list] : code statement\n",
    "``` \n",
    "`lambda` is a Python keyword, `argument` is a list that is  optional, and a `:` (read as a colon), fallowed by\n",
    " \n",
    "`code` statement."
   ]
  },
  {
   "cell_type": "markdown",
   "metadata": {},
   "source": [
    "Creating a simple onliner function in python can tedious and long. E.g.,"
   ]
  },
  {
   "cell_type": "code",
   "execution_count": 19,
   "metadata": {},
   "outputs": [
    {
     "data": {
      "text/plain": [
       "5"
      ]
     },
     "execution_count": 19,
     "metadata": {},
     "output_type": "execute_result"
    }
   ],
   "source": [
    "def add(x, y): \n",
    "    return x + y\n",
    "  \n",
    "# Call the function\n",
    "add(2, 3)  # Output: 5"
   ]
  },
  {
   "cell_type": "markdown",
   "metadata": {},
   "source": [
    "The above function name is `add`, and it expects two arguments x and y and returns their sum.\n",
    "\n",
    "Let’s see how we can convert the above function into a lambda function (aka lamdda expression):\n",
    "\n"
   ]
  },
  {
   "cell_type": "code",
   "execution_count": 20,
   "metadata": {},
   "outputs": [
    {
     "name": "stdout",
     "output_type": "stream",
     "text": [
      "5\n"
     ]
    }
   ],
   "source": [
    "add = lambda x, y : x + y \n",
    "  \n",
    "print(add(2, 3)) # Output: 5"
   ]
  },
  {
   "cell_type": "markdown",
   "metadata": {},
   "source": [
    "In `lambda x, y: x + y`,  `x` and `y` are arguments to the function and `x + y` is the expression which gets executed and its values is returned as output."
   ]
  },
  {
   "cell_type": "markdown",
   "metadata": {},
   "source": [
    "## map()\n",
    "\n",
    "```python\n",
    "map(function_object, iterable1, iterable2,...)\n",
    "```\n",
    "map() is built-in python function.\n",
    "\n",
    "map functions are `higher order` functions  (have a look at functional programming for more background on this type of function) in that it expects a function object and any number of iterables like list, dictionary, etc. It executes the function_object for each element in the sequence and returns a list of the elements modified by the function object, or over each iterable.\n",
    "\n",
    " \n",
    "map() applies the function to all elements of a sequence.\n",
    "\n",
    "It returns a new list of values after applying the function.\n",
    "\n",
    "Let’s say we want list of squares of a given list."
   ]
  },
  {
   "cell_type": "code",
   "execution_count": 21,
   "metadata": {},
   "outputs": [
    {
     "data": {
      "text/plain": [
       "[2, 4, 6, 8]"
      ]
     },
     "execution_count": 21,
     "metadata": {},
     "output_type": "execute_result"
    }
   ],
   "source": [
    "def multiply2(x):\n",
    "  return x * 2\n",
    "    \n",
    "m2 = map(multiply2, [1, 2, 3, 4])  # Output [2, 4, 6, 8]\n",
    "list(m2) #use list to make m2 pretty and printable!"
   ]
  },
  {
   "cell_type": "markdown",
   "metadata": {},
   "source": [
    "### map function returns an `iterator` that gets `lazily evaluated`\n",
    "In Python3, a map function returns an `iterator` or `map object` which gets `lazily evaluated`. Just like zip function is lazily evaluated. \n",
    "\n",
    "We can NOT access the elements of the map object with index, nor can we  use len() to find the length of the map object.\n",
    "\n",
    "We can force convert the map output i.e. the map object to list as shown above : \n",
    "```python \n",
    "list(m2)```"
   ]
  },
  {
   "cell_type": "markdown",
   "metadata": {},
   "source": [
    "In the above example, map executes multiply2 function for each element in the list i.e. `1, 2, 3, 4` and returns `[2, 4, 6, 8]`\n",
    "\n",
    "Let’s see how we can write the above code using map and lambda:"
   ]
  },
  {
   "cell_type": "code",
   "execution_count": 22,
   "metadata": {},
   "outputs": [
    {
     "data": {
      "text/plain": [
       "[2, 4, 6, 8]"
      ]
     },
     "execution_count": 22,
     "metadata": {},
     "output_type": "execute_result"
    }
   ],
   "source": [
    "m2 = map(lambda x : x*2, [1, 2, 3, 4]) #Output [2, 4, 6, 8]\n",
    "list(m2)"
   ]
  },
  {
   "cell_type": "markdown",
   "metadata": {},
   "source": [
    "### Iterating over a dictionary using map and lambda"
   ]
  },
  {
   "cell_type": "code",
   "execution_count": 23,
   "metadata": {},
   "outputs": [
    {
     "name": "stdout",
     "output_type": "stream",
     "text": [
      "dict_a: [{'name': 'python', 'points': 10}, {'name': 'java', 'points': 8}]\n",
      "['python', 'java']\n",
      "[100, 80]\n",
      "[True, False]\n"
     ]
    }
   ],
   "source": [
    "dict_a = [{'name': 'python', 'points': 10}, {'name': 'java', 'points': 8}]\n",
    "  \n",
    "print(f\"dict_a: {dict_a}\")\n",
    "print(f\"{list(map(lambda x : x['name'], dict_a))}\")  # pull out the 'name' items: Output: ['python', 'java']\n",
    "  \n",
    "print(f\"{list(map(lambda x : x['points']*10,  dict_a))}\")  # Output: [100, 80]\n",
    "\n",
    "print(f\"{list(map(lambda x : x['name'] == 'python', dict_a))}\")  # Output: [True, False]"
   ]
  },
  {
   "cell_type": "markdown",
   "metadata": {},
   "source": [
    "In the above example, each dict of dict_a will be passed as parameter to the lambda function. Result of lambda function expression for each dict will be given as output."
   ]
  },
  {
   "cell_type": "markdown",
   "metadata": {},
   "source": [
    "### Multiple iterables to the map function\n",
    "We can pass multiple sequences to the map functions as shown below:"
   ]
  },
  {
   "cell_type": "code",
   "execution_count": 24,
   "metadata": {},
   "outputs": [
    {
     "data": {
      "text/plain": [
       "<map at 0x7f8cdf6fe198>"
      ]
     },
     "execution_count": 24,
     "metadata": {},
     "output_type": "execute_result"
    }
   ],
   "source": [
    "list_a = [1, 2, 3]\n",
    "list_b = [10, 20, 30]\n",
    "  \n",
    "map(lambda x, y: x + y, list_a, list_b) # Output: [11, 22, 33]"
   ]
  },
  {
   "cell_type": "markdown",
   "metadata": {},
   "source": [
    "Here, each $i^{th}$ element of list_a and list_b will be passed as argument to the lambda function.\n",
    "\n"
   ]
  },
  {
   "cell_type": "markdown",
   "metadata": {},
   "source": [
    "## filter()\n",
    "\n",
    "Now we look at another useful built-in higher-order function, `filter()`\n",
    " \n",
    "\n",
    "filter()\n",
    " \n",
    "\n",
    "syntax:\n",
    "  \n",
    "```python\n",
    "filter(function or None, iterable)\n",
    "```\n",
    "  \n",
    "filter() function filters out all elements of an iterable,\n",
    " \n",
    "for which function returns True. If function is None,\n",
    "\n",
    "returns all items that are true.\n",
    "\n",
    "filter requires both arguments.\n",
    "\n",
    "filter function expects two arguments, function_object and an iterable. function_object returns a boolean value. function_object is called for each element of the iterable and filter returns only those element for which the function_object returns true.\n",
    "\n",
    "Like map function, the filter function  returns a list of element. Unlike map function filter function can only have one iterable as input."
   ]
  },
  {
   "cell_type": "code",
   "execution_count": 25,
   "metadata": {},
   "outputs": [
    {
     "data": {
      "text/plain": [
       "[2, 4, 6]"
      ]
     },
     "execution_count": 25,
     "metadata": {},
     "output_type": "execute_result"
    }
   ],
   "source": [
    "a = [1, 2, 3, 4, 5, 6]\n",
    "list(filter(lambda x : x % 2 == 0, a)) # Output: [2, 4, 6]"
   ]
  },
  {
   "cell_type": "markdown",
   "metadata": {},
   "source": [
    "### Filter list of dicts"
   ]
  },
  {
   "cell_type": "code",
   "execution_count": 18,
   "metadata": {},
   "outputs": [
    {
     "data": {
      "text/plain": [
       "[{'name': 'python', 'points': 10}]"
      ]
     },
     "execution_count": 18,
     "metadata": {},
     "output_type": "execute_result"
    }
   ],
   "source": [
    "dict_a = [{'name': 'python', 'points': 10}, {'name': 'java', 'points': 8}]\n",
    "\n",
    "list(filter(lambda x : x['name'] == 'python', dict_a)) # Output: [{'name': 'python', 'points': 10}]"
   ]
  },
  {
   "cell_type": "code",
   "execution_count": 26,
   "metadata": {},
   "outputs": [
    {
     "data": {
      "text/plain": [
       "[1, 2, 3, 5, 7, 8, 9, 10]"
      ]
     },
     "execution_count": 26,
     "metadata": {},
     "output_type": "execute_result"
    }
   ],
   "source": [
    "a = [1,2,3,0,5,{},7,8,9,10,\"\"]\n",
    " \n",
    "filtered = filter(None,a)\n",
    " \n",
    "list(filtered)"
   ]
  },
  {
   "cell_type": "markdown",
   "metadata": {},
   "source": [
    "  \n",
    "Returns a filter object, with applied filter condition.\n",
    "\n",
    "  \n",
    "Notice here we have not provided any filter function, and the list contains, some None equivalents, 0, {} and “”\n",
    "filter applies truthiness check on all elements, and omits which are False.\n",
    " "
   ]
  },
  {
   "cell_type": "markdown",
   "metadata": {},
   "source": [
    "### Using map() and filter() in combination\n",
    " \n",
    "From a given list, get squares of evens.\n",
    "\n",
    "using `map`, `filter` and `lambda`functions together\n",
    "  "
   ]
  },
  {
   "cell_type": "code",
   "execution_count": 28,
   "metadata": {},
   "outputs": [
    {
     "name": "stdout",
     "output_type": "stream",
     "text": [
      "[4, 16, 36, 64, 100]\n"
     ]
    }
   ],
   "source": [
    "a = [1,2,3,4,5,6,7,8,9,10]\n",
    " \n",
    "even_squares = list(map(lambda i : i**2, filter(lambda i :i %2 ==0,a)))\n",
    "print(even_squares)"
   ]
  },
  {
   "cell_type": "markdown",
   "metadata": {},
   "source": [
    "At first it may look complicated, but its not; let’s break it down:\n",
    " \n",
    "```python\n",
    "lambda i : i**2 \n",
    "```\n",
    "\n",
    "returns squares of i\n",
    "\n",
    "```python\n",
    "lambda i :i %2 == 0 \n",
    "```\n",
    "returns `True` of only even numbers.\n",
    "\n",
    "`filter` takes two arguments\n",
    "\n",
    "```python\n",
    "filter(lambda i :i %2 == 0, a)  # function and a sequence\n",
    "```\n",
    "\n",
    "This results in a filter object which generated even numbers:\n",
    "```python\n",
    "2,4,6,8,10\n",
    "```\n",
    "\n",
    "```python\n",
    "map(lambda i : i**2, seq)\n",
    "```\n",
    "and the result is map object with sequence of squares of evens which is converted to list() for display purpose.\n",
    "\n",
    "\n",
    "`map()` and `filter()` are generally used with lambda functions,\n",
    "\n",
    "As its not necessary to have a entire function for a quick job.\n",
    "\n",
    "\n",
    "\n",
    "## reduce()\n",
    "Now we look at another useful higher-order function, reduce(), that uses a divide-and-conquer (head, tail list-type processing) strategy to process input collection so that it can be reduced down to a single entity.\n",
    "\n",
    "```python \n",
    "from functools import reduce\n",
    "filter()\n",
    "```\n",
    "Note reduce() function is moved to functools module. To use reduce() you have to import functools module.\n",
    "\n",
    "```python\n",
    "from functools import reduce\n",
    "```\n",
    "The Python documentation for `reduce()` is very clear, we can get it by using help() on reduce.\n",
    "  \n",
    "\n",
    "```python\n",
    "help(reduce)\n",
    "```\n",
    "\n",
    "output:\n",
    " \n",
    "```\n",
    "reduce(...)\n",
    "    reduce(function, sequence[, initial]) -> value\n",
    "     \n",
    "    Apply a function of two arguments cumulatively to the items of a sequence,\n",
    "    from left to right, so as to reduce the sequence to a single value.\n",
    "\n",
    "    For example, reduce(lambda x, y: x+y, [1, 2, 3, 4, 5]) calculates\n",
    " \n",
    "    ((((1+2)+3)+4)+5).  \n",
    "    \n",
    "    If initial is present, it is placed before the items\n",
    " \n",
    "    of the sequence in the calculation, and serves as a default when the\n",
    " \n",
    "    sequence is empty.\n",
    "``` \n",
    " \n",
    "### reduce: simple example\n",
    "Sum of all elements of a list.\n",
    "\n",
    "  "
   ]
  },
  {
   "cell_type": "code",
   "execution_count": 35,
   "metadata": {},
   "outputs": [
    {
     "name": "stdout",
     "output_type": "stream",
     "text": [
      "reduce(lambda x,y: x+y,a): 10\n",
      "sum(a): 10\n"
     ]
    }
   ],
   "source": [
    "from functools import reduce\n",
    "a =[1,2,3,4]\n",
    " \n",
    "print(f\"reduce(lambda x,y: x+y,a): {reduce(lambda x,y: x+y,a)}\") # returns: 10\n",
    "\n",
    "print(f\"sum(a): {sum(a)}\") # returns: 10"
   ]
  },
  {
   "cell_type": "markdown",
   "metadata": {},
   "source": [
    "Here `reduce()` applies a lambda function, cumulatively to each item of list. The result is calculated as follows\"\n",
    "\n",
    "```python\n",
    "((((1+2))+3)+5) \n",
    "```\n",
    "\n",
    "which results in a scalar value of  $10$.\n",
    "\n",
    "`sum(a)` returns the same response and is much simpler. BUT, example shown here is very rudimentary, perhaps of no practical use. But it helps in understanding how reduce() works. Let’s consider another simple example:\n",
    " \n",
    "### Maximum value in a list.\n",
    " Find the maximum value in a list."
   ]
  },
  {
   "cell_type": "code",
   "execution_count": 36,
   "metadata": {},
   "outputs": [
    {
     "data": {
      "text/plain": [
       "41"
      ]
     },
     "execution_count": 36,
     "metadata": {},
     "output_type": "execute_result"
    }
   ],
   "source": [
    "a =[11,2,13,41,34,30]\n",
    "max_value = lambda x,y: x if (x > y) else y\n",
    " \n",
    "reduce(max_value, a)  # returns 41"
   ]
  },
  {
   "cell_type": "markdown",
   "metadata": {},
   "source": [
    "### Get product of all list elements\n",
    "  "
   ]
  },
  {
   "cell_type": "code",
   "execution_count": 37,
   "metadata": {},
   "outputs": [
    {
     "data": {
      "text/plain": [
       "720"
      ]
     },
     "execution_count": 37,
     "metadata": {},
     "output_type": "execute_result"
    }
   ],
   "source": [
    "a =[1,2,3,4,5,6]\n",
    " \n",
    "list_product = lambda x, y: x * y\n",
    " \n",
    "reduce(list_product, a) #returns 720\n"
   ]
  },
  {
   "cell_type": "markdown",
   "metadata": {},
   "source": [
    "The result 720 is obtained like this, \n",
    "\n",
    "```python\n",
    "(((((1*2)*3)*4)*5)*6)\n",
    "```\n",
    "\n",
    "Reduce applied the `lambda` function cumulatively on each item of a list.\n"
   ]
  },
  {
   "cell_type": "markdown",
   "metadata": {},
   "source": [
    "# Partial functions: \n",
    "## Derive a function with x parameters to a function with fewer parameters\n",
    "\n",
    "We will use `parital functions` in this task. Before delving into the task, let's introduce `partial functions`. \n",
    "You can create partial functions in python by using the partial function from the functools library. Partial functions allow one to derive a function with x parameters to a function with fewer parameters and fixed values set for the more limited function.\n"
   ]
  },
  {
   "cell_type": "code",
   "execution_count": 39,
   "metadata": {},
   "outputs": [
    {
     "name": "stdout",
     "output_type": "stream",
     "text": [
      "8\n"
     ]
    }
   ],
   "source": [
    "from functools import partial\n",
    "\n",
    "def multiply(x,y):\n",
    "        return x * y\n",
    "\n",
    "# create a new function that multiplies by 2\n",
    "dbl = partial(multiply,2)\n",
    "print(dbl(4))"
   ]
  },
  {
   "cell_type": "markdown",
   "metadata": {},
   "source": [
    "## Lab Exercise\n",
    "Create a new partial function `simple_eqn()` by calling partial() on `eqn(), and replacing the first three variables in `eqn()`. Then print with the new partial function `simple_eqn()` (hint: which has using only one input variable) so that the output equals 60. Let's assume the input to the partial function is $3$."
   ]
  },
  {
   "cell_type": "code",
   "execution_count": 83,
   "metadata": {},
   "outputs": [
    {
     "ename": "SyntaxError",
     "evalue": "invalid syntax (<ipython-input-83-2c18c5f9c109>, line 7)",
     "output_type": "error",
     "traceback": [
      "\u001b[0;36m  File \u001b[0;32m\"<ipython-input-83-2c18c5f9c109>\"\u001b[0;36m, line \u001b[0;32m7\u001b[0m\n\u001b[0;31m    simple_eqn = partial(func,....)\u001b[0m\n\u001b[0m                                  ^\u001b[0m\n\u001b[0;31mSyntaxError\u001b[0m\u001b[0;31m:\u001b[0m invalid syntax\n"
     ]
    }
   ],
   "source": [
    "#Following is the exercise, function provided:\n",
    "from functools import partial\n",
    "def eqn(u,v,w,x):\n",
    "    return u*4 + v*3 + w*2 + x\n",
    "#Enter your code here to create and print with your partial function\n",
    "\n",
    "simple_eqn = partial(func,....)\n",
    "print(simple_eqn(...))"
   ]
  },
  {
   "cell_type": "markdown",
   "metadata": {},
   "source": [
    "## Lab Solution\n"
   ]
  },
  {
   "cell_type": "code",
   "execution_count": 41,
   "metadata": {},
   "outputs": [
    {
     "name": "stdout",
     "output_type": "stream",
     "text": [
      "60\n"
     ]
    }
   ],
   "source": [
    "#### Lab Solution\n",
    "#Following is the exercise, function provided:\n",
    "from functools import partial\n",
    "def eqn(u,v,w,x):\n",
    "    return u*4 + v*3 + w*2 + x\n",
    "\n",
    "#simple_eqn is derived function with with fewer parameters to the main func eqn()\n",
    "simple_eqn = partial(eqn,10, 3, 4) \n",
    "print(simple_eqn(3))"
   ]
  },
  {
   "cell_type": "markdown",
   "metadata": {},
   "source": [
    "# Example: map, reduce, partial, lambda\n",
    "\n",
    "Compute the centroid or average of array of vectors (numeric) vectors. This is a useful calculation for KMeans clustering!\n"
   ]
  },
  {
   "cell_type": "code",
   "execution_count": 66,
   "metadata": {},
   "outputs": [
    {
     "name": "stdout",
     "output_type": "stream",
     "text": [
      "X_train: \n",
      "[[1 1 1 1]\n",
      " [2 2 2 2]\n",
      " [3 3 3 3]\n",
      " [4 4 4 4]\n",
      " [5 5 5 5]]\n"
     ]
    }
   ],
   "source": [
    "import numpy as np\n",
    "X_train = np.array([[1,1,1,1], [2,2,2,2], [3,3,3,3], [4,4,4,4], [5,5,5,5] ])\n",
    "print(f\"X_train: \\n{X_train}\")"
   ]
  },
  {
   "cell_type": "code",
   "execution_count": 46,
   "metadata": {},
   "outputs": [
    {
     "name": "stdout",
     "output_type": "stream",
     "text": [
      "[3.25, 6.5, 9.75]\n"
     ]
    }
   ],
   "source": [
    "cluster = X_train\n",
    "print(f\"{list (map(lambda x: x / len(cluster), reduce(partial(map, add), cluster))) }\")"
   ]
  },
  {
   "cell_type": "markdown",
   "metadata": {},
   "source": [
    "### Let's breakdown `reduce(partial(map, add), cluster)`"
   ]
  },
  {
   "cell_type": "code",
   "execution_count": 57,
   "metadata": {},
   "outputs": [
    {
     "name": "stdout",
     "output_type": "stream",
     "text": [
      "cluster:\n",
      "[[ 1  2  3]\n",
      " [ 1  2  3]\n",
      " [ 1  2  3]\n",
      " [10 20 30]]\n",
      "\n",
      "list (reduce(partial(map, add), cluster) ):\n",
      "[13, 26, 39]\n"
     ]
    },
    {
     "data": {
      "text/plain": [
       "[13, 26, 39]"
      ]
     },
     "execution_count": 57,
     "metadata": {},
     "output_type": "execute_result"
    }
   ],
   "source": [
    "print(f\"cluster:\\n{cluster}\")\n",
    "print(f\"\\nlist (reduce(partial(map, add), cluster) ):\\n{list (reduce(partial(map, add), cluster) )}\")"
   ]
  },
  {
   "cell_type": "code",
   "execution_count": 63,
   "metadata": {},
   "outputs": [
    {
     "name": "stdout",
     "output_type": "stream",
     "text": [
      "cluster:\n",
      "[[ 1  2  3]\n",
      " [ 1  2  3]\n",
      " [ 1  2  3]\n",
      " [10 20 30]]\n",
      "list (reduce(sum, cluster) ):\n",
      "[13, 26, 39]\n"
     ]
    }
   ],
   "source": [
    "print(f\"cluster:\\n{cluster}\")\n",
    "print(f\"list (reduce(add, cluster) ):\\n{list (reduce(add, cluster) )}\")"
   ]
  },
  {
   "cell_type": "markdown",
   "metadata": {},
   "source": [
    "## Vectorizing: Using numpy instead (makes it simpler and faster!)\n",
    "\n",
    "Let's vectorize the above code as it will be much faster and cleaner to follows:\n",
    "\n",
    "```python\n",
    "map(lambda x: x / len(cluster), reduce(partial(map, add), cluster))\n",
    "```"
   ]
  },
  {
   "cell_type": "code",
   "execution_count": 82,
   "metadata": {},
   "outputs": [
    {
     "data": {
      "text/plain": [
       "array([13, 26, 39])"
      ]
     },
     "execution_count": 82,
     "metadata": {},
     "output_type": "execute_result"
    }
   ],
   "source": [
    "cluster.sum(axis =0)"
   ]
  },
  {
   "cell_type": "code",
   "execution_count": 80,
   "metadata": {},
   "outputs": [
    {
     "data": {
      "text/plain": [
       "array([0, 0, 1, 1, 2])"
      ]
     },
     "execution_count": 80,
     "metadata": {},
     "output_type": "execute_result"
    }
   ],
   "source": [
    "X = np.array([[1,1,1,1], [2,2,2,2], [3,3,3,3], [4,4,4,4], [5,5,5,5] ])\n",
    "means =np.array([[1,1,1,1],\n",
    "        [3,3,3,3],\n",
    "        [6,6,6,6] ])\n",
    "\n",
    "def predict(X, means):\n",
    "    \"\"\"returns an array containing the index to the nearest centroid for each point\"\"\"\n",
    "    distances = np.sqrt(((X - means[:, np.newaxis])**2).sum(axis=2))\n",
    "    return np.argmin(distances, axis=0)\n",
    "\n",
    "def closest_centroid(points, centroids):\n",
    "    \"\"\"returns an array containing the index to the nearest centroid for each point\"\"\"\n",
    "    distances = np.sqrt(((points - centroids[:, np.newaxis])**2).sum(axis=2))\n",
    "    return np.argmin(distances, axis=0)\n",
    "\n",
    "closest_centroid(X, means)"
   ]
  },
  {
   "cell_type": "markdown",
   "metadata": {},
   "source": [
    "# KMeans : E-Step vectorized"
   ]
  },
  {
   "cell_type": "code",
   "execution_count": 74,
   "metadata": {},
   "outputs": [
    {
     "data": {
      "text/plain": [
       "<matplotlib.patches.Circle at 0x7f8cc1292e80>"
      ]
     },
     "execution_count": 74,
     "metadata": {},
     "output_type": "execute_result"
    },
    {
     "data": {
      "image/png": "[encoded data removed]",
      "text/plain": [
       "<Figure size 432x288 with 1 Axes>"
      ]
     },
     "metadata": {
      "needs_background": "light"
     },
     "output_type": "display_data"
    }
   ],
   "source": [
    "from sklearn.datasets.samples_generator import make_blobs\n",
    "import numpy as np\n",
    "import matplotlib.pyplot as plt\n",
    "import matplotlib\n",
    "from matplotlib import animation\n",
    "import random\n",
    "from functools import reduce, partial\n",
    "from operator import add\n",
    "%matplotlib inline\n",
    "\n",
    "points = np.vstack(((np.random.randn(150, 2) * 0.75 + np.array([1, 0])),\n",
    "                  (np.random.randn(50, 2) * 0.25 + np.array([-0.5, 0.5])),\n",
    "                  (np.random.randn(50, 2) * 0.5 + np.array([-0.5, -0.5]))))\n",
    "\n",
    "plt.scatter(points[:, 0], points[:, 1])\n",
    "ax = plt.gca()\n",
    "ax.add_artist(plt.Circle(np.array([1, 0]), 0.75/2, fill=False, lw=3))\n",
    "ax.add_artist(plt.Circle(np.array([-0.5, 0.5]), 0.25/2, fill=False, lw=3))\n",
    "ax.add_artist(plt.Circle(np.array([-0.5, -0.5]), 0.5/2, fill=False, lw=3))"
   ]
  },
  {
   "cell_type": "code",
   "execution_count": 75,
   "metadata": {},
   "outputs": [
    {
     "data": {
      "text/plain": [
       "<matplotlib.collections.PathCollection at 0x7f8cc11fd828>"
      ]
     },
     "execution_count": 75,
     "metadata": {},
     "output_type": "execute_result"
    },
    {
     "data": {
      "image/png": "[encoded data removed]",
      "text/plain": [
       "<Figure size 432x288 with 1 Axes>"
      ]
     },
     "metadata": {
      "needs_background": "light"
     },
     "output_type": "display_data"
    }
   ],
   "source": [
    "def initialize_centroids(points, k):\n",
    "    \"\"\"returns k centroids from the initial points\"\"\"\n",
    "    centroids = points.copy()\n",
    "    np.random.shuffle(centroids)\n",
    "    return centroids[:k]\n",
    "\n",
    "initialize_centroids(points, 3)\n",
    "\n",
    "plt.scatter(points[:, 0], points[:, 1])\n",
    "centroids = initialize_centroids(points, 3)\n",
    "plt.scatter(centroids[:, 0], centroids[:, 1], c='r', s=100)"
   ]
  },
  {
   "cell_type": "code",
   "execution_count": 78,
   "metadata": {},
   "outputs": [
    {
     "data": {
      "text/plain": [
       "array([2, 1, 2, 2, 0, 2, 0, 2, 2, 2, 2, 2, 2, 2, 2, 0, 2, 2, 2, 0, 2, 2,\n",
       "       2, 2, 2, 2, 2, 2, 2, 2, 2, 2, 2, 2, 2, 1, 2, 2, 2, 2, 1, 2, 1, 2,\n",
       "       2, 2, 2, 2, 2, 2, 0, 2, 2, 2, 2, 2, 2, 2, 2, 2, 0, 2, 2, 2, 2, 2,\n",
       "       0, 2, 2, 0, 2, 2, 2, 2, 2, 2, 0, 2, 2, 2, 2, 2, 1, 2, 2, 0, 2, 2,\n",
       "       2, 2, 2, 1, 2, 2, 2, 2, 2, 2, 2, 2, 1, 2, 2, 2, 2, 2, 2, 2, 2, 2,\n",
       "       2, 2, 1, 0, 2, 2, 2, 2, 1, 2, 2, 2, 2, 2, 2, 2, 2, 2, 1, 2, 2, 2,\n",
       "       2, 2, 1, 2, 1, 2, 2, 2, 2, 2, 2, 1, 2, 2, 1, 2, 2, 2, 1, 0, 0, 1,\n",
       "       1, 1, 0, 1, 0, 1, 0, 1, 1, 1, 1, 0, 1, 0, 1, 1, 1, 0, 0, 0, 1, 0,\n",
       "       1, 1, 1, 1, 1, 1, 0, 0, 1, 1, 0, 1, 1, 1, 1, 0, 0, 1, 1, 1, 1, 1,\n",
       "       1, 0, 1, 1, 1, 1, 1, 1, 1, 1, 1, 1, 1, 0, 1, 1, 1, 1, 0, 1, 1, 1,\n",
       "       2, 1, 0, 1, 1, 1, 1, 1, 1, 1, 1, 1, 1, 1, 1, 1, 1, 1, 2, 1, 1, 1,\n",
       "       1, 1, 1, 1, 1, 1, 1, 1])"
      ]
     },
     "execution_count": 78,
     "metadata": {},
     "output_type": "execute_result"
    }
   ],
   "source": [
    "def closest_centroid(points, centroids):\n",
    "    \"\"\"returns an array containing the index to the nearest centroid for each point\"\"\"\n",
    "    distances = np.sqrt(((points - centroids[:, np.newaxis])**2).sum(axis=2))\n",
    "    return np.argmin(distances, axis=0)\n",
    "\n",
    "c = initialize_centroids(points, 3)\n",
    "closest_centroid(points, c)\n",
    "#closest_centroid(X, means)"
   ]
  },
  {
   "cell_type": "code",
   "execution_count": 81,
   "metadata": {},
   "outputs": [
    {
     "data": {
      "text/plain": [
       "3"
      ]
     },
     "execution_count": 81,
     "metadata": {},
     "output_type": "execute_result"
    }
   ],
   "source": [
    "centroids.shape[0]"
   ]
  },
  {
   "cell_type": "code",
   "execution_count": null,
   "metadata": {},
   "outputs": [],
   "source": []
  }
 ],
 "metadata": {
  "kernelspec": {
   "display_name": "Python 3",
   "language": "python",
   "name": "python3"
  },
  "language_info": {
   "codemirror_mode": {
    "name": "ipython",
    "version": 3
   },
   "file_extension": ".py",
   "mimetype": "text/x-python",
   "name": "python",
   "nbconvert_exporter": "python",
   "pygments_lexer": "ipython3",
   "version": "3.6.8"
  },
  "toc": {
   "base_numbering": 1,
   "nav_menu": {},
   "number_sections": true,
   "sideBar": true,
   "skip_h1_title": false,
   "title_cell": "Table of Contents",
   "title_sidebar": "Contents",
   "toc_cell": false,
   "toc_position": {},
   "toc_section_display": true,
   "toc_window_display": true
  }
 },
 "nbformat": 4,
 "nbformat_minor": 2
}
