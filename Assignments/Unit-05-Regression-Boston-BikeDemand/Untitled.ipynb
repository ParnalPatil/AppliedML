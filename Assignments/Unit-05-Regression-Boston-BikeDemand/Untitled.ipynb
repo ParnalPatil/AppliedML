{
 "cells": [
  {
   "cell_type": "markdown",
   "id": "ca7605eb",
   "metadata": {},
   "source": [
    "Palindrome Number\n",
    "https://leetcode.com/problems/palindrome-number/"
   ]
  },
  {
   "cell_type": "code",
   "execution_count": 31,
   "id": "7f85511f",
   "metadata": {},
   "outputs": [
    {
     "name": "stdout",
     "output_type": "stream",
     "text": [
      "Not Palindrome\n"
     ]
    }
   ],
   "source": [
    "x = -121\n",
    "ctr = 0\n",
    "k = str(x)\n",
    "n = len(k)\n",
    "for i in range(len(k)):\n",
    "    if(k[i] == k[n-i-1]):\n",
    "       continue\n",
    "    else:\n",
    "       ctr = 1\n",
    "       break\n",
    "if ctr == 0:\n",
    "    print('Palindrome')\n",
    "else:\n",
    "    print('Not Palindrome')"
   ]
  },
  {
   "cell_type": "code",
   "execution_count": null,
   "id": "ce3fdaa1",
   "metadata": {},
   "outputs": [],
   "source": []
  }
 ],
 "metadata": {
  "kernelspec": {
   "display_name": "Python 3",
   "language": "python",
   "name": "python3"
  },
  "language_info": {
   "codemirror_mode": {
    "name": "ipython",
    "version": 3
   },
   "file_extension": ".py",
   "mimetype": "text/x-python",
   "name": "python",
   "nbconvert_exporter": "python",
   "pygments_lexer": "ipython3",
   "version": "3.7.7"
  },
  "toc": {
   "base_numbering": 1,
   "nav_menu": {},
   "number_sections": true,
   "sideBar": true,
   "skip_h1_title": false,
   "title_cell": "Table of Contents",
   "title_sidebar": "Contents",
   "toc_cell": false,
   "toc_position": {},
   "toc_section_display": true,
   "toc_window_display": false
  }
 },
 "nbformat": 4,
 "nbformat_minor": 5
}
